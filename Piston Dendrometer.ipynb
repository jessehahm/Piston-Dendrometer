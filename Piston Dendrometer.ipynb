{
 "cells": [
  {
   "cell_type": "code",
   "execution_count": 1,
   "metadata": {
    "collapsed": false
   },
   "outputs": [],
   "source": [
    "# Import required libraries\n",
    "import matplotlib.pyplot as plt\n",
    "import matplotlib.colors as colors\n",
    "import matplotlib.cm as cmx\n",
    "#plt.rcParams['pdf.fonttype'] = 42\n",
    "import pandas as pd\n",
    "from IPython.core.display import HTML\n",
    "import numpy as np\n",
    "%matplotlib qt\n",
    "import glob\n",
    "import readData\n",
    "reload(readData) #avoid kernel restart if changed\n",
    "import re\n",
    "import databaseQuery"
   ]
  },
  {
   "cell_type": "code",
   "execution_count": 1,
   "metadata": {
    "collapsed": false
   },
   "outputs": [
    {
     "ename": "NameError",
     "evalue": "name 'glob' is not defined",
     "output_type": "error",
     "traceback": [
      "\u001b[1;31m---------------------------------------------------------------------------\u001b[0m",
      "\u001b[1;31mNameError\u001b[0m                                 Traceback (most recent call last)",
      "\u001b[1;32m<ipython-input-1-627dc281fb68>\u001b[0m in \u001b[0;36m<module>\u001b[1;34m()\u001b[0m\n\u001b[0;32m      2\u001b[0m \u001b[1;31m# Files should be .csv format in \\Data\\ subdirectory\u001b[0m\u001b[1;33m\u001b[0m\u001b[1;33m\u001b[0m\u001b[0m\n\u001b[0;32m      3\u001b[0m \u001b[1;31m# Files should be simply named SAGE_SOUTH or RIV_NORTH, without numerals\u001b[0m\u001b[1;33m\u001b[0m\u001b[1;33m\u001b[0m\u001b[0m\n\u001b[1;32m----> 4\u001b[1;33m \u001b[0mallFiles\u001b[0m \u001b[1;33m=\u001b[0m \u001b[0mglob\u001b[0m\u001b[1;33m.\u001b[0m\u001b[0mglob\u001b[0m\u001b[1;33m(\u001b[0m\u001b[1;34m\"Data\\*.csv\"\u001b[0m\u001b[1;33m)\u001b[0m \u001b[1;31m#get all files with csv extension in this subfolder\u001b[0m\u001b[1;33m\u001b[0m\u001b[0m\n\u001b[0m\u001b[0;32m      5\u001b[0m \u001b[1;32mprint\u001b[0m \u001b[0mallFiles\u001b[0m\u001b[1;33m\u001b[0m\u001b[0m\n\u001b[0;32m      6\u001b[0m \u001b[1;33m\u001b[0m\u001b[0m\n",
      "\u001b[1;31mNameError\u001b[0m: name 'glob' is not defined"
     ]
    }
   ],
   "source": [
    "## Read in the data as a pandas dataframe\n",
    "# Files should be .csv format in \\Data\\ subdirectory\n",
    "# Files should be simply named SAGE_SOUTH or RIV_NORTH, without numerals\n",
    "allFiles = glob.glob(\"Data\\*.csv\") #get all files with csv extension in this subfolder\n",
    "print allFiles\n",
    "\n",
    "\n",
    "#Return pandas dataframe with all the data, datetime index\n",
    "#toggle saveCSV True/False to save a csv of the compiled data\n",
    "\n",
    "voltage, radius = readData.readCSV(allFiles, saveCSV = False) \n"
   ]
  },
  {
   "cell_type": "code",
   "execution_count": null,
   "metadata": {
    "collapsed": false
   },
   "outputs": [],
   "source": [
    "radius.head()"
   ]
  },
  {
   "cell_type": "code",
   "execution_count": null,
   "metadata": {
    "collapsed": false
   },
   "outputs": [],
   "source": [
    "## Read in the metadata as a pandas dataframe\n",
    "metadata = pd.read_csv('PISTON_DENDROMETER_METADATA.csv',sep=',', dtype=str)\n",
    "\n",
    "#Create dictionaries between sensor ID and metadata info\n",
    "Site = dict(zip(metadata['Micron Displacement DSID'], metadata['Site'] )) \n",
    "Slope = dict(zip(metadata['Micron Displacement DSID'], metadata['Slope'] )) \n",
    "Species = dict(zip(metadata['Micron Displacement DSID'], metadata['Species'] )) \n",
    "Tree = dict(zip(metadata['Micron Displacement DSID'], metadata['Tree #'] )) \n"
   ]
  },
  {
   "cell_type": "code",
   "execution_count": null,
   "metadata": {
    "collapsed": false
   },
   "outputs": [],
   "source": [
    "metadata.head()"
   ]
  },
  {
   "cell_type": "code",
   "execution_count": null,
   "metadata": {
    "collapsed": false,
    "scrolled": true
   },
   "outputs": [],
   "source": []
  },
  {
   "cell_type": "code",
   "execution_count": null,
   "metadata": {
    "collapsed": false
   },
   "outputs": [],
   "source": []
  },
  {
   "cell_type": "code",
   "execution_count": null,
   "metadata": {
    "collapsed": true
   },
   "outputs": [],
   "source": [
    "#%% SPECIFY TIME RANGE OF SERIES\n",
    "startDateTime = pd.to_datetime('2015-08-01 05:00:00')\n",
    "stopDateTime = pd.to_datetime('2016-03-18 05:00:00')\n",
    "radiusTR = radius[(pd.to_datetime(radius.index) > startDateTime) & \n",
    "                (pd.to_datetime(radius.index) < stopDateTime)]\n"
   ]
  },
  {
   "cell_type": "code",
   "execution_count": null,
   "metadata": {
    "collapsed": false
   },
   "outputs": [],
   "source": [
    "## Import from mySQL database \n",
    "#Convert datetime stamps to strings for the sql query\n",
    "dateStart = str(startDateTime.year) + '-' + str(startDateTime.month) + '-' + str(startDateTime.day)\n",
    "dateStop =  str(stopDateTime.year) + '-' + str(stopDateTime.month) + '-' + str(stopDateTime.day)\n",
    "\n",
    "#here we make use of external .py file with odmquery function (thanks Collin!) to get data from the database\n",
    "#1672 = cumulative WY precip, in mm\n",
    "#1785 = Rainfall mm TB4 WSAM RWS_Rain_TB4_Tot2015-03-26 (ongoing)Rainfall mmAngelo Meadow WSwsam0 to 700TB4mm-L Rain Gage\n",
    "#2958 = Barometric Pressure, WSSR, mBar\n",
    "#2959 = Rainfall, WSSR, mm\n",
    "#3048 = Rainfall Cumulative mm Sagehorn\n",
    "# atmP = databaseQuery.odmquery(dateStart, dateStop, '2958', True)\n",
    "# atmP.plot()\n",
    "#rain = databaseQuery.odmquery(dateStart, dateStop, '2957', True)\n",
    "\n"
   ]
  },
  {
   "cell_type": "code",
   "execution_count": null,
   "metadata": {
    "collapsed": true
   },
   "outputs": [],
   "source": [
    "## Normalize values\n",
    "radiusMin = radiusTR.apply(np.min)\n",
    "\n",
    "#center to zero\n",
    "radiusZeroed =  radiusTR-radiusMin\n",
    "\n"
   ]
  },
  {
   "cell_type": "code",
   "execution_count": null,
   "metadata": {
    "collapsed": false,
    "scrolled": false
   },
   "outputs": [],
   "source": [
    "# fig, ax = plt.subplots(2, sharex=True, figsize=(17, 22))\n",
    "\n",
    "fig = plt.figure(figsize=(20,10))\n",
    "# Get unique names of species\n",
    "uniq = list(set(metadata['Species']))\n",
    "\n",
    "# Set the color map to match the number of species\n",
    "# z = range(1,len(uniq))\n",
    "hot = plt.get_cmap('hot')\n",
    "cNorm  = colors.Normalize(vmin=0, vmax=len(uniq))\n",
    "scalarMap = cmx.ScalarMappable(norm=cNorm, cmap=plt.get_cmap('hsv') )\n",
    "\n",
    "\n",
    "for column in radiusZeroed:\n",
    "#         plt.figure()\n",
    "    ax = plt.plot(radiusZeroed.index, radiusZeroed[column], \n",
    "             color=scalarMap.to_rgba(uniq.index(Species[column])), \n",
    "             label = (Tree[column] + ' ' + Species[column] + ' ' + Site[column]))\n",
    "    plt.legend(bbox_to_anchor=(1, 1))\n",
    "plt.ylabel('Radial displacement of outer live bark away from tree [microns]')\n",
    "plt.ylim([0,3000])\n",
    "#plt.savefig('pistonDendro.pdf', format='pdf')"
   ]
  },
  {
   "cell_type": "markdown",
   "metadata": {
    "collapsed": true
   },
   "source": [
    "$$a + b / 3$$"
   ]
  },
  {
   "cell_type": "code",
   "execution_count": null,
   "metadata": {
    "collapsed": true
   },
   "outputs": [],
   "source": []
  }
 ],
 "metadata": {
  "kernelspec": {
   "display_name": "Python 2",
   "language": "python",
   "name": "python2"
  },
  "language_info": {
   "codemirror_mode": {
    "name": "ipython",
    "version": 2
   },
   "file_extension": ".py",
   "mimetype": "text/x-python",
   "name": "python",
   "nbconvert_exporter": "python",
   "pygments_lexer": "ipython2",
   "version": "2.7.11"
  }
 },
 "nbformat": 4,
 "nbformat_minor": 0
}
